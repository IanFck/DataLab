{
 "cells": [
  {
   "cell_type": "markdown",
   "id": "f9c7fb5a",
   "metadata": {},
   "source": [
    "## **Python para Data Science: Clase 07**\n",
    "\n",
    "### Actividad Práctica: Numpy, Pandas y Librerías de Visualización"
   ]
  },
  {
   "cell_type": "markdown",
   "id": "f32a988e",
   "metadata": {},
   "source": [
    "#### **Actividad 1: Explorando Series y DataFrames con Pandas y Visualizando la Información**\n",
    "\n",
    "1. Crear una Serie a partir de un diccionario:\n",
    " \n",
    " ```data = {\n",
    "    'País': ['Chile', 'Argentina', 'Perú', 'Colombia', 'Uruguay'],\n",
    "    'Población (millones)': [19.5, 45.3, 32.1, 50.3, 3.5],\n",
    "    'PIB (USD miles de millones)': [320.0, 450.5, 226.8, 330.2, 59.2],\n",
    "    'Esperanza de vida (años)': [80.2, 76.1, 75.6, 74.5, 77.8] }\n",
    "```\n",
    "\n",
    "2. Extraer sólo los países con PIB mayor a 300\n",
    "3. Ordenar el DataFrame por “Esperanza de vida” de mayor a menor.\n",
    "4. Calcular el PIB per cápita (en USD) y agregarlo como columna.\n",
    "5. Crear una columna “Nivel de vida” que muestre la siguiente información:\n",
    "    - “Alta” si esperanza ≥ 78\n",
    "    - “Media” si entre 75 y 78\n",
    "    - “Baja” si < 75\n",
    "6. Calcular la media y desviación estándar de la población.\n",
    "7. Encontrar el país con mayor y menor PIB per cápita.\n",
    "8. Crear un Histograma de “Población (millones)”.\n",
    "9. Crear un gráfico de dispersión de “PIB per cápita” vs “Esperanza de vida”."
   ]
  },
  {
   "cell_type": "code",
   "execution_count": 3,
   "id": "5c78a3a3",
   "metadata": {},
   "outputs": [],
   "source": [
    "import pandas as pd"
   ]
  },
  {
   "cell_type": "markdown",
   "id": "65243fe2",
   "metadata": {},
   "source": [
    "### Respuesta 1. Crear una serie a partir de un diccionario"
   ]
  },
  {
   "cell_type": "code",
   "execution_count": 4,
   "id": "74292d0f",
   "metadata": {},
   "outputs": [
    {
     "data": {
      "application/vnd.microsoft.datawrangler.viewer.v0+json": {
       "columns": [
        {
         "name": "index",
         "rawType": "object",
         "type": "string"
        },
        {
         "name": "0",
         "rawType": "object",
         "type": "unknown"
        }
       ],
       "ref": "f7a61616-8bf4-4ac6-ac30-e4b108b90b7d",
       "rows": [
        [
         "Pais",
         "['Chile', 'Argentina', 'Perú', 'Colombia', 'Uruguay']"
        ],
        [
         "Población (millones)",
         "[19.5, 45.3, 32.1, 50.3, 3.5]"
        ],
        [
         "PIB (USD miles de millones)",
         "[320.0, 450.5, 226.8, 330.2, 59.2]"
        ],
        [
         "Esperanza de vida (años)",
         "[80.2, 76.1, 75.6, 74.5, 77.8]"
        ]
       ],
       "shape": {
        "columns": 1,
        "rows": 4
       }
      },
      "text/plain": [
       "Pais                           [Chile, Argentina, Perú, Colombia, Uruguay]\n",
       "Población (millones)                         [19.5, 45.3, 32.1, 50.3, 3.5]\n",
       "PIB (USD miles de millones)             [320.0, 450.5, 226.8, 330.2, 59.2]\n",
       "Esperanza de vida (años)                    [80.2, 76.1, 75.6, 74.5, 77.8]\n",
       "dtype: object"
      ]
     },
     "execution_count": 4,
     "metadata": {},
     "output_type": "execute_result"
    }
   ],
   "source": [
    "Diccionario = {\n",
    "            \"Pais\": [\"Chile\", \"Argentina\", \"Perú\", \"Colombia\", \"Uruguay\"],\n",
    "            \"Población (millones)\": [19.5, 45.3, 32.1, 50.3, 3.5],\n",
    "            \"PIB (USD miles de millones)\": [320.0, 450.5, 226.8, 330.2, 59.2],\n",
    "            \"Esperanza de vida (años)\": [80.2, 76.1, 75.6, 74.5, 77.8]\n",
    "\n",
    "}\n",
    "\n",
    "\n",
    "Serie = pd.Series(Diccionario)\n",
    "Serie\n"
   ]
  },
  {
   "cell_type": "markdown",
   "id": "d24a5229",
   "metadata": {},
   "source": [
    "### Respuestas 2\n",
    "\n",
    "*Para la respuesta seleccionaremos el pais, y el pib. Haremos un bucle donde recorra los paises con mayor pib y se detendra cuando sea mayor a 300"
   ]
  },
  {
   "cell_type": "code",
   "execution_count": 5,
   "id": "7e945f31",
   "metadata": {},
   "outputs": [
    {
     "name": "stdout",
     "output_type": "stream",
     "text": [
      "['Chile', 'Argentina', 'Colombia']\n"
     ]
    }
   ],
   "source": [
    "paises = Serie[\"Pais\"]\n",
    "pib = Serie [\"PIB (USD miles de millones)\"]\n",
    "pib_mayor = [paises[i] for i in range(len(paises)) if pib[i] > 300]\n",
    "\n",
    "print (pib_mayor)"
   ]
  },
  {
   "cell_type": "markdown",
   "id": "36646106",
   "metadata": {},
   "source": [
    "### Respuestas 3\n",
    "\n",
    "*Para la respuesta usaremos el comando sort_values para poder ordenar la esperanza de vida, y le daremos la condicion de que sea false el ascenso para que sea de mayor a menor\n",
    "\n"
   ]
  },
  {
   "cell_type": "code",
   "execution_count": 20,
   "id": "4aed1c45",
   "metadata": {},
   "outputs": [
    {
     "name": "stdout",
     "output_type": "stream",
     "text": [
      "        Pais  Población (millones)  PIB (USD miles de millones)  \\\n",
      "0      Chile                  19.5                        320.0   \n",
      "4    Uruguay                   3.5                         59.2   \n",
      "1  Argentina                  45.3                        450.5   \n",
      "2       Perú                  32.1                        226.8   \n",
      "3   Colombia                  50.3                        330.2   \n",
      "\n",
      "   Esperanza de vida (años)  \n",
      "0                      80.2  \n",
      "4                      77.8  \n",
      "1                      76.1  \n",
      "2                      75.6  \n",
      "3                      74.5  \n"
     ]
    }
   ],
   "source": [
    "df = pd.DataFrame(Diccionario)\n",
    "\n",
    "df_ordenado = df.sort_values(by=\"Esperanza de vida (años)\", ascending=False)\n",
    "\n",
    "print(df_ordenado)"
   ]
  },
  {
   "cell_type": "markdown",
   "id": "dbb440ee",
   "metadata": {},
   "source": [
    "### Respuestas 4\n",
    "*Para ello, simplemente a el pib y la poblacion lo multiplicaremos por 1.000.000 y lo dividiremos"
   ]
  },
  {
   "cell_type": "code",
   "execution_count": 24,
   "id": "6c49b6c2",
   "metadata": {},
   "outputs": [
    {
     "data": {
      "application/vnd.microsoft.datawrangler.viewer.v0+json": {
       "columns": [
        {
         "name": "index",
         "rawType": "int64",
         "type": "integer"
        },
        {
         "name": "Pais",
         "rawType": "object",
         "type": "string"
        },
        {
         "name": "Población (millones)",
         "rawType": "float64",
         "type": "float"
        },
        {
         "name": "PIB (USD miles de millones)",
         "rawType": "float64",
         "type": "float"
        },
        {
         "name": "Esperanza de vida (años)",
         "rawType": "float64",
         "type": "float"
        },
        {
         "name": "PIB per cápita (USD)",
         "rawType": "float64",
         "type": "float"
        }
       ],
       "ref": "289bca7d-f9fd-4ed5-b425-6e3be993be42",
       "rows": [
        [
         "0",
         "Chile",
         "19.5",
         "320.0",
         "80.2",
         "16410.25641025641"
        ],
        [
         "1",
         "Argentina",
         "45.3",
         "450.5",
         "76.1",
         "9944.812362030905"
        ],
        [
         "2",
         "Perú",
         "32.1",
         "226.8",
         "75.6",
         "7065.420560747663"
        ],
        [
         "3",
         "Colombia",
         "50.3",
         "330.2",
         "74.5",
         "6564.612326043738"
        ],
        [
         "4",
         "Uruguay",
         "3.5",
         "59.2",
         "77.8",
         "16914.285714285714"
        ]
       ],
       "shape": {
        "columns": 5,
        "rows": 5
       }
      },
      "text/html": [
       "<div>\n",
       "<style scoped>\n",
       "    .dataframe tbody tr th:only-of-type {\n",
       "        vertical-align: middle;\n",
       "    }\n",
       "\n",
       "    .dataframe tbody tr th {\n",
       "        vertical-align: top;\n",
       "    }\n",
       "\n",
       "    .dataframe thead th {\n",
       "        text-align: right;\n",
       "    }\n",
       "</style>\n",
       "<table border=\"1\" class=\"dataframe\">\n",
       "  <thead>\n",
       "    <tr style=\"text-align: right;\">\n",
       "      <th></th>\n",
       "      <th>Pais</th>\n",
       "      <th>Población (millones)</th>\n",
       "      <th>PIB (USD miles de millones)</th>\n",
       "      <th>Esperanza de vida (años)</th>\n",
       "      <th>PIB per cápita (USD)</th>\n",
       "    </tr>\n",
       "  </thead>\n",
       "  <tbody>\n",
       "    <tr>\n",
       "      <th>0</th>\n",
       "      <td>Chile</td>\n",
       "      <td>19.5</td>\n",
       "      <td>320.0</td>\n",
       "      <td>80.2</td>\n",
       "      <td>16410.256410</td>\n",
       "    </tr>\n",
       "    <tr>\n",
       "      <th>1</th>\n",
       "      <td>Argentina</td>\n",
       "      <td>45.3</td>\n",
       "      <td>450.5</td>\n",
       "      <td>76.1</td>\n",
       "      <td>9944.812362</td>\n",
       "    </tr>\n",
       "    <tr>\n",
       "      <th>2</th>\n",
       "      <td>Perú</td>\n",
       "      <td>32.1</td>\n",
       "      <td>226.8</td>\n",
       "      <td>75.6</td>\n",
       "      <td>7065.420561</td>\n",
       "    </tr>\n",
       "    <tr>\n",
       "      <th>3</th>\n",
       "      <td>Colombia</td>\n",
       "      <td>50.3</td>\n",
       "      <td>330.2</td>\n",
       "      <td>74.5</td>\n",
       "      <td>6564.612326</td>\n",
       "    </tr>\n",
       "    <tr>\n",
       "      <th>4</th>\n",
       "      <td>Uruguay</td>\n",
       "      <td>3.5</td>\n",
       "      <td>59.2</td>\n",
       "      <td>77.8</td>\n",
       "      <td>16914.285714</td>\n",
       "    </tr>\n",
       "  </tbody>\n",
       "</table>\n",
       "</div>"
      ],
      "text/plain": [
       "        Pais  Población (millones)  PIB (USD miles de millones)  \\\n",
       "0      Chile                  19.5                        320.0   \n",
       "1  Argentina                  45.3                        450.5   \n",
       "2       Perú                  32.1                        226.8   \n",
       "3   Colombia                  50.3                        330.2   \n",
       "4    Uruguay                   3.5                         59.2   \n",
       "\n",
       "   Esperanza de vida (años)  PIB per cápita (USD)  \n",
       "0                      80.2          16410.256410  \n",
       "1                      76.1           9944.812362  \n",
       "2                      75.6           7065.420561  \n",
       "3                      74.5           6564.612326  \n",
       "4                      77.8          16914.285714  "
      ]
     },
     "execution_count": 24,
     "metadata": {},
     "output_type": "execute_result"
    }
   ],
   "source": [
    "df[\"PIB per cápita (USD)\"] = (df[\"PIB (USD miles de millones)\"] * 1_000_000_000) / (df[\"Población (millones)\"] * 1_000_000)\n",
    "df"
   ]
  },
  {
   "cell_type": "markdown",
   "id": "13db337c",
   "metadata": {},
   "source": [
    "### Respuesta 5\n",
    "\n",
    "*Aqui usaremos el cut (lo tuve que buscar :), el cual toma una columna y los dividira en intervalos"
   ]
  },
  {
   "cell_type": "code",
   "execution_count": null,
   "id": "871d505a",
   "metadata": {},
   "outputs": [
    {
     "name": "stdout",
     "output_type": "stream",
     "text": [
      "        Pais  Población (millones)  PIB (USD miles de millones)  \\\n",
      "0      Chile                  19.5                        320.0   \n",
      "1  Argentina                  45.3                        450.5   \n",
      "2       Perú                  32.1                        226.8   \n",
      "3   Colombia                  50.3                        330.2   \n",
      "4    Uruguay                   3.5                         59.2   \n",
      "\n",
      "   Esperanza de vida (años)  PIB per cápita (USD) Nivel de vida  \n",
      "0                      80.2          16410.256410          Alta  \n",
      "1                      76.1           9944.812362         Media  \n",
      "2                      75.6           7065.420561         Media  \n",
      "3                      74.5           6564.612326          Baja  \n",
      "4                      77.8          16914.285714         Media  \n"
     ]
    }
   ],
   "source": [
    "df[\"Nivel de vida\"] = pd.cut(\n",
    "    df[\"Esperanza de vida (años)\"],\n",
    "    bins=[0, 75, 78, float(\"inf\")],   \n",
    "    labels=[\"Baja\", \"Media\", \"Alta\"]  \n",
    ")\n",
    "\n",
    "print(df)"
   ]
  },
  {
   "cell_type": "markdown",
   "id": "d7946b98",
   "metadata": {},
   "source": [
    "### Respuesta 6\n",
    "\n",
    "*Para ello, usaremos simplemente mean y std para sacar la mediana con mean y la desviacion con std"
   ]
  },
  {
   "cell_type": "code",
   "execution_count": 27,
   "id": "35c3bda0",
   "metadata": {},
   "outputs": [
    {
     "name": "stdout",
     "output_type": "stream",
     "text": [
      "Media de la poblacion 30.14 millones de habitantes\n",
      "Desviacion estandar de la poblacion 19.12 millones de habitantes\n"
     ]
    }
   ],
   "source": [
    "media = df[\"Población (millones)\"].mean()\n",
    "desviacion = df[\"Población (millones)\"].std()\n",
    "\n",
    "print(f\"Media de la poblacion {media:.2f} millones de habitantes\")\n",
    "print(f\"Desviacion estandar de la poblacion {desviacion:.2f} millones de habitantes\")"
   ]
  },
  {
   "cell_type": "markdown",
   "id": "93db9aa5",
   "metadata": {},
   "source": [
    "### Respuesta 7\n",
    "\n",
    "*Lo mismo que la 3, pero cambiando la tabla que necesitamos ordenar"
   ]
  },
  {
   "cell_type": "code",
   "execution_count": 28,
   "id": "ff3772e9",
   "metadata": {},
   "outputs": [
    {
     "data": {
      "application/vnd.microsoft.datawrangler.viewer.v0+json": {
       "columns": [
        {
         "name": "index",
         "rawType": "int64",
         "type": "integer"
        },
        {
         "name": "Pais",
         "rawType": "object",
         "type": "string"
        },
        {
         "name": "Población (millones)",
         "rawType": "float64",
         "type": "float"
        },
        {
         "name": "PIB (USD miles de millones)",
         "rawType": "float64",
         "type": "float"
        },
        {
         "name": "Esperanza de vida (años)",
         "rawType": "float64",
         "type": "float"
        },
        {
         "name": "PIB per cápita (USD)",
         "rawType": "float64",
         "type": "float"
        },
        {
         "name": "Nivel de vida",
         "rawType": "category",
         "type": "unknown"
        }
       ],
       "ref": "659dbb0a-cf08-4967-861b-7907452404a5",
       "rows": [
        [
         "4",
         "Uruguay",
         "3.5",
         "59.2",
         "77.8",
         "16914.285714285714",
         "Media"
        ],
        [
         "0",
         "Chile",
         "19.5",
         "320.0",
         "80.2",
         "16410.25641025641",
         "Alta"
        ],
        [
         "1",
         "Argentina",
         "45.3",
         "450.5",
         "76.1",
         "9944.812362030905",
         "Media"
        ],
        [
         "2",
         "Perú",
         "32.1",
         "226.8",
         "75.6",
         "7065.420560747663",
         "Media"
        ],
        [
         "3",
         "Colombia",
         "50.3",
         "330.2",
         "74.5",
         "6564.612326043738",
         "Baja"
        ]
       ],
       "shape": {
        "columns": 6,
        "rows": 5
       }
      },
      "text/html": [
       "<div>\n",
       "<style scoped>\n",
       "    .dataframe tbody tr th:only-of-type {\n",
       "        vertical-align: middle;\n",
       "    }\n",
       "\n",
       "    .dataframe tbody tr th {\n",
       "        vertical-align: top;\n",
       "    }\n",
       "\n",
       "    .dataframe thead th {\n",
       "        text-align: right;\n",
       "    }\n",
       "</style>\n",
       "<table border=\"1\" class=\"dataframe\">\n",
       "  <thead>\n",
       "    <tr style=\"text-align: right;\">\n",
       "      <th></th>\n",
       "      <th>Pais</th>\n",
       "      <th>Población (millones)</th>\n",
       "      <th>PIB (USD miles de millones)</th>\n",
       "      <th>Esperanza de vida (años)</th>\n",
       "      <th>PIB per cápita (USD)</th>\n",
       "      <th>Nivel de vida</th>\n",
       "    </tr>\n",
       "  </thead>\n",
       "  <tbody>\n",
       "    <tr>\n",
       "      <th>4</th>\n",
       "      <td>Uruguay</td>\n",
       "      <td>3.5</td>\n",
       "      <td>59.2</td>\n",
       "      <td>77.8</td>\n",
       "      <td>16914.285714</td>\n",
       "      <td>Media</td>\n",
       "    </tr>\n",
       "    <tr>\n",
       "      <th>0</th>\n",
       "      <td>Chile</td>\n",
       "      <td>19.5</td>\n",
       "      <td>320.0</td>\n",
       "      <td>80.2</td>\n",
       "      <td>16410.256410</td>\n",
       "      <td>Alta</td>\n",
       "    </tr>\n",
       "    <tr>\n",
       "      <th>1</th>\n",
       "      <td>Argentina</td>\n",
       "      <td>45.3</td>\n",
       "      <td>450.5</td>\n",
       "      <td>76.1</td>\n",
       "      <td>9944.812362</td>\n",
       "      <td>Media</td>\n",
       "    </tr>\n",
       "    <tr>\n",
       "      <th>2</th>\n",
       "      <td>Perú</td>\n",
       "      <td>32.1</td>\n",
       "      <td>226.8</td>\n",
       "      <td>75.6</td>\n",
       "      <td>7065.420561</td>\n",
       "      <td>Media</td>\n",
       "    </tr>\n",
       "    <tr>\n",
       "      <th>3</th>\n",
       "      <td>Colombia</td>\n",
       "      <td>50.3</td>\n",
       "      <td>330.2</td>\n",
       "      <td>74.5</td>\n",
       "      <td>6564.612326</td>\n",
       "      <td>Baja</td>\n",
       "    </tr>\n",
       "  </tbody>\n",
       "</table>\n",
       "</div>"
      ],
      "text/plain": [
       "        Pais  Población (millones)  PIB (USD miles de millones)  \\\n",
       "4    Uruguay                   3.5                         59.2   \n",
       "0      Chile                  19.5                        320.0   \n",
       "1  Argentina                  45.3                        450.5   \n",
       "2       Perú                  32.1                        226.8   \n",
       "3   Colombia                  50.3                        330.2   \n",
       "\n",
       "   Esperanza de vida (años)  PIB per cápita (USD) Nivel de vida  \n",
       "4                      77.8          16914.285714         Media  \n",
       "0                      80.2          16410.256410          Alta  \n",
       "1                      76.1           9944.812362         Media  \n",
       "2                      75.6           7065.420561         Media  \n",
       "3                      74.5           6564.612326          Baja  "
      ]
     },
     "execution_count": 28,
     "metadata": {},
     "output_type": "execute_result"
    }
   ],
   "source": [
    "Pais = df.sort_values(by=[\"PIB per cápita (USD)\"], ascending=False)\n",
    "Pais"
   ]
  },
  {
   "cell_type": "markdown",
   "id": "c5223d9c",
   "metadata": {},
   "source": [
    "### Respuesta 8\n",
    "\n",
    "*Para el histograma, importaremos la libreria matplotlib.pyplot para poder hacer uso de las herramientas. y luego lo editaremos a nuestra conveniencia. "
   ]
  },
  {
   "cell_type": "code",
   "execution_count": 36,
   "id": "77199114",
   "metadata": {},
   "outputs": [
    {
     "data": {
      "image/png": "[encoded data removed]",
      "text/plain": [
       "<Figure size 640x480 with 1 Axes>"
      ]
     },
     "metadata": {},
     "output_type": "display_data"
    }
   ],
   "source": [
    "import matplotlib.pyplot as plt\n",
    "\n",
    "df[\"Población (millones)\"].plot(kind=\"hist\", bins=5)\n",
    "plt.title(\"Histograma de Población (millones)\")\n",
    "plt.xlabel(\"Población (millones)\")\n",
    "plt.ylabel(\"Frecuencia\")\n",
    "plt.show()"
   ]
  },
  {
   "cell_type": "markdown",
   "id": "ac902769",
   "metadata": {},
   "source": [
    "### Respuesta 9\n"
   ]
  },
  {
   "cell_type": "code",
   "execution_count": 40,
   "id": "d1d93d73",
   "metadata": {},
   "outputs": [
    {
     "data": {
      "image/png": "[encoded data removed]",
      "text/plain": [
       "<Figure size 640x480 with 1 Axes>"
      ]
     },
     "metadata": {},
     "output_type": "display_data"
    }
   ],
   "source": [
    "plt.scatter(df[\"PIB per cápita (USD)\"], df[\"Esperanza de vida (años)\"], color=\"blue\")\n",
    "plt.title(\"PIB por capita vs Esperanza de vida\")\n",
    "plt.xlabel(\"Pib por capita\")\n",
    "plt.ylabel(\"Esperanza de vida\")\n",
    "\n",
    "\n",
    "plt.show()"
   ]
  }
 ],
 "metadata": {
  "kernelspec": {
   "display_name": "Python 3",
   "language": "python",
   "name": "python3"
  },
  "language_info": {
   "codemirror_mode": {
    "name": "ipython",
    "version": 3
   },
   "file_extension": ".py",
   "mimetype": "text/x-python",
   "name": "python",
   "nbconvert_exporter": "python",
   "pygments_lexer": "ipython3",
   "version": "3.10.5"
  }
 },
 "nbformat": 4,
 "nbformat_minor": 5
}
